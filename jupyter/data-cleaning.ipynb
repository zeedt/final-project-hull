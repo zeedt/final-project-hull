{
 "cells": [
  {
   "cell_type": "code",
   "execution_count": 1,
   "id": "2d1bee8f",
   "metadata": {},
   "outputs": [],
   "source": [
    "import pandas as pd\n",
    "import numpy as np\n",
    "import glob\n",
    "import os"
   ]
  },
  {
   "cell_type": "code",
   "execution_count": 2,
   "id": "a616ccfd",
   "metadata": {},
   "outputs": [],
   "source": [
    "pd. set_option(\"display.max_columns\", None) "
   ]
  },
  {
   "cell_type": "code",
   "execution_count": null,
   "id": "622f7289",
   "metadata": {},
   "outputs": [],
   "source": []
  },
  {
   "cell_type": "code",
   "execution_count": 3,
   "id": "4e64214a",
   "metadata": {},
   "outputs": [],
   "source": [
    "path = r'./../ios/fitness'\n",
    "ios_fitness_files = glob.glob(os.path.join(path , \"*.csv\"))\n",
    "fitness_dfs = []\n",
    "for filename in ios_fitness_files:\n",
    "    df = pd.read_csv(filename)\n",
    "    fitness_dfs.append(df)\n",
    "\n",
    "ios_fitness_df = pd.concat(fitness_dfs, axis=0, ignore_index=True)"
   ]
  },
  {
   "cell_type": "code",
   "execution_count": 4,
   "id": "c6854fd7",
   "metadata": {},
   "outputs": [
    {
     "data": {
      "text/plain": [
       "Index(['App Name', 'Size', 'Age Rating', 'Languages', 'Price',\n",
       "       'InApp Purchase', 'Average Rating', 'Rating Count', 'Privacy Data',\n",
       "       'App Link', 'Number of Versions', 'Last Version Date',\n",
       "       'First Version Date'],\n",
       "      dtype='object')"
      ]
     },
     "execution_count": 4,
     "metadata": {},
     "output_type": "execute_result"
    }
   ],
   "source": [
    "ios_fitness_df.columns"
   ]
  },
  {
   "cell_type": "code",
   "execution_count": 5,
   "id": "1f8d5bb0",
   "metadata": {},
   "outputs": [
    {
     "data": {
      "text/html": [
       "<div>\n",
       "<style scoped>\n",
       "    .dataframe tbody tr th:only-of-type {\n",
       "        vertical-align: middle;\n",
       "    }\n",
       "\n",
       "    .dataframe tbody tr th {\n",
       "        vertical-align: top;\n",
       "    }\n",
       "\n",
       "    .dataframe thead th {\n",
       "        text-align: right;\n",
       "    }\n",
       "</style>\n",
       "<table border=\"1\" class=\"dataframe\">\n",
       "  <thead>\n",
       "    <tr style=\"text-align: right;\">\n",
       "      <th></th>\n",
       "      <th>App Name</th>\n",
       "      <th>Size</th>\n",
       "      <th>Age Rating</th>\n",
       "      <th>Languages</th>\n",
       "      <th>Price</th>\n",
       "      <th>InApp Purchase</th>\n",
       "      <th>Average Rating</th>\n",
       "      <th>Rating Count</th>\n",
       "      <th>Privacy Data</th>\n",
       "      <th>App Link</th>\n",
       "      <th>Number of Versions</th>\n",
       "      <th>Last Version Date</th>\n",
       "      <th>First Version Date</th>\n",
       "    </tr>\n",
       "  </thead>\n",
       "  <tbody>\n",
       "    <tr>\n",
       "      <th>0</th>\n",
       "      <td>X CLINIC\\n            4+</td>\n",
       "      <td>1.8 MB</td>\n",
       "      <td>4+</td>\n",
       "      <td>Japanese</td>\n",
       "      <td>Free</td>\n",
       "      <td>NaN</td>\n",
       "      <td>NaN</td>\n",
       "      <td>NaN</td>\n",
       "      <td>Contact Info</td>\n",
       "      <td>https://apps.apple.com/us/app/x-clinic/id15668...</td>\n",
       "      <td>1</td>\n",
       "      <td>NaN</td>\n",
       "      <td>NaN</td>\n",
       "    </tr>\n",
       "    <tr>\n",
       "      <th>1</th>\n",
       "      <td>X Factor\\n            4+</td>\n",
       "      <td>21.1 MB</td>\n",
       "      <td>4+</td>\n",
       "      <td>English</td>\n",
       "      <td>Free</td>\n",
       "      <td>NaN</td>\n",
       "      <td>5.0</td>\n",
       "      <td>4 Ratings</td>\n",
       "      <td>NaN</td>\n",
       "      <td>https://apps.apple.com/us/app/x-factor/id31273...</td>\n",
       "      <td>25</td>\n",
       "      <td>Nov 21, 2017</td>\n",
       "      <td>May 27, 2009</td>\n",
       "    </tr>\n",
       "    <tr>\n",
       "      <th>2</th>\n",
       "      <td>The Boxing Academy\\n            4+</td>\n",
       "      <td>43.7 MB</td>\n",
       "      <td>4+</td>\n",
       "      <td>English, Arabic, Czech, Danish, Dutch, French,...</td>\n",
       "      <td>Free</td>\n",
       "      <td>NaN</td>\n",
       "      <td>NaN</td>\n",
       "      <td>NaN</td>\n",
       "      <td>Purchases,Financial Info,Contact Info,User Con...</td>\n",
       "      <td>https://apps.apple.com/us/app/the-boxing-acade...</td>\n",
       "      <td>6</td>\n",
       "      <td>Feb 9, 2022</td>\n",
       "      <td>May 24, 2019</td>\n",
       "    </tr>\n",
       "    <tr>\n",
       "      <th>3</th>\n",
       "      <td>X Gym Xercise\\n            17+</td>\n",
       "      <td>78.6 MB</td>\n",
       "      <td>17+\\n\\n              Unrestricted Web Access\\n...</td>\n",
       "      <td>English</td>\n",
       "      <td>Free</td>\n",
       "      <td>NaN</td>\n",
       "      <td>5.0</td>\n",
       "      <td>1 Rating</td>\n",
       "      <td>NaN</td>\n",
       "      <td>https://apps.apple.com/us/app/x-gym-xercise/id...</td>\n",
       "      <td>4</td>\n",
       "      <td>Sep 15, 2020</td>\n",
       "      <td>Jun 1, 2018</td>\n",
       "    </tr>\n",
       "    <tr>\n",
       "      <th>4</th>\n",
       "      <td>X Round Workout\\n            4+</td>\n",
       "      <td>66 MB</td>\n",
       "      <td>4+</td>\n",
       "      <td>English</td>\n",
       "      <td>Free</td>\n",
       "      <td>NaN</td>\n",
       "      <td>NaN</td>\n",
       "      <td>NaN</td>\n",
       "      <td>NaN</td>\n",
       "      <td>https://apps.apple.com/us/app/x-round-workout/...</td>\n",
       "      <td>2</td>\n",
       "      <td>Sep 28, 2021</td>\n",
       "      <td>Sep 27, 2021</td>\n",
       "    </tr>\n",
       "  </tbody>\n",
       "</table>\n",
       "</div>"
      ],
      "text/plain": [
       "                             App Name     Size  \\\n",
       "0            X CLINIC\\n            4+   1.8 MB   \n",
       "1            X Factor\\n            4+  21.1 MB   \n",
       "2  The Boxing Academy\\n            4+  43.7 MB   \n",
       "3      X Gym Xercise\\n            17+  78.6 MB   \n",
       "4     X Round Workout\\n            4+    66 MB   \n",
       "\n",
       "                                          Age Rating  \\\n",
       "0                                                 4+   \n",
       "1                                                 4+   \n",
       "2                                                 4+   \n",
       "3  17+\\n\\n              Unrestricted Web Access\\n...   \n",
       "4                                                 4+   \n",
       "\n",
       "                                           Languages Price InApp Purchase  \\\n",
       "0                                           Japanese  Free            NaN   \n",
       "1                                            English  Free            NaN   \n",
       "2  English, Arabic, Czech, Danish, Dutch, French,...  Free            NaN   \n",
       "3                                            English  Free            NaN   \n",
       "4                                            English  Free            NaN   \n",
       "\n",
       "   Average Rating Rating Count  \\\n",
       "0             NaN          NaN   \n",
       "1             5.0    4 Ratings   \n",
       "2             NaN          NaN   \n",
       "3             5.0     1 Rating   \n",
       "4             NaN          NaN   \n",
       "\n",
       "                                        Privacy Data  \\\n",
       "0                                       Contact Info   \n",
       "1                                                NaN   \n",
       "2  Purchases,Financial Info,Contact Info,User Con...   \n",
       "3                                                NaN   \n",
       "4                                                NaN   \n",
       "\n",
       "                                            App Link  Number of Versions  \\\n",
       "0  https://apps.apple.com/us/app/x-clinic/id15668...                   1   \n",
       "1  https://apps.apple.com/us/app/x-factor/id31273...                  25   \n",
       "2  https://apps.apple.com/us/app/the-boxing-acade...                   6   \n",
       "3  https://apps.apple.com/us/app/x-gym-xercise/id...                   4   \n",
       "4  https://apps.apple.com/us/app/x-round-workout/...                   2   \n",
       "\n",
       "  Last Version Date First Version Date  \n",
       "0               NaN                NaN  \n",
       "1      Nov 21, 2017       May 27, 2009  \n",
       "2       Feb 9, 2022       May 24, 2019  \n",
       "3      Sep 15, 2020        Jun 1, 2018  \n",
       "4      Sep 28, 2021       Sep 27, 2021  "
      ]
     },
     "execution_count": 5,
     "metadata": {},
     "output_type": "execute_result"
    }
   ],
   "source": [
    "ios_fitness_df[:5]"
   ]
  },
  {
   "cell_type": "code",
   "execution_count": null,
   "id": "32e0d6f5",
   "metadata": {},
   "outputs": [],
   "source": []
  },
  {
   "cell_type": "markdown",
   "id": "6e85ca34",
   "metadata": {},
   "source": [
    "#### Clean name by removing the average rating appened to it"
   ]
  },
  {
   "cell_type": "code",
   "execution_count": 6,
   "id": "d8813b30",
   "metadata": {},
   "outputs": [],
   "source": [
    "def cleanName(name):\n",
    "    newline_index = name.index('\\n')\n",
    "    return name[:newline_index]"
   ]
  },
  {
   "cell_type": "code",
   "execution_count": 7,
   "id": "d9cbab57",
   "metadata": {},
   "outputs": [],
   "source": [
    "ios_fitness_df['App Name'] = ios_fitness_df['App Name'].apply(cleanName)"
   ]
  },
  {
   "cell_type": "code",
   "execution_count": 8,
   "id": "bab70446",
   "metadata": {},
   "outputs": [
    {
     "name": "stdout",
     "output_type": "stream",
     "text": [
      "Number of applications with missing size 8\n"
     ]
    }
   ],
   "source": [
    "print(\"Number of applications with missing size\", len(ios_fitness_df[ios_fitness_df['Size'].isna()]))"
   ]
  },
  {
   "cell_type": "code",
   "execution_count": 9,
   "id": "03f1c5e9",
   "metadata": {},
   "outputs": [],
   "source": [
    "#### Drop application with no size information"
   ]
  },
  {
   "cell_type": "code",
   "execution_count": 10,
   "id": "77320047",
   "metadata": {},
   "outputs": [],
   "source": [
    "indexes_to_drop = ios_fitness_df[ios_fitness_df['Size'].isna()].index\n",
    "ios_fitness_df.drop(index=indexes_to_drop, axis=0, inplace=True)"
   ]
  },
  {
   "cell_type": "code",
   "execution_count": null,
   "id": "d51d173d",
   "metadata": {},
   "outputs": [],
   "source": []
  },
  {
   "cell_type": "code",
   "execution_count": 11,
   "id": "86436cf9",
   "metadata": {},
   "outputs": [],
   "source": [
    "#### Clean Age Rating"
   ]
  },
  {
   "cell_type": "code",
   "execution_count": 12,
   "id": "7b9286d6",
   "metadata": {},
   "outputs": [],
   "source": [
    "def clean_age_rating(age_rating):\n",
    "    plus_index = age_rating.index('+')\n",
    "    return age_rating[:plus_index+1]"
   ]
  },
  {
   "cell_type": "code",
   "execution_count": 13,
   "id": "acc79587",
   "metadata": {},
   "outputs": [],
   "source": [
    "ios_fitness_df['Age Rating'] = ios_fitness_df['Age Rating'].apply(clean_age_rating)"
   ]
  },
  {
   "cell_type": "code",
   "execution_count": 14,
   "id": "9beb7990",
   "metadata": {},
   "outputs": [
    {
     "data": {
      "text/plain": [
       "array(['4+', '17+', '12+', '9+'], dtype=object)"
      ]
     },
     "execution_count": 14,
     "metadata": {},
     "output_type": "execute_result"
    }
   ],
   "source": [
    "ios_fitness_df['Age Rating'].unique()"
   ]
  },
  {
   "cell_type": "code",
   "execution_count": null,
   "id": "9d6c862d",
   "metadata": {},
   "outputs": [],
   "source": []
  },
  {
   "cell_type": "code",
   "execution_count": null,
   "id": "48ecc02d",
   "metadata": {},
   "outputs": [],
   "source": []
  }
 ],
 "metadata": {
  "kernelspec": {
   "display_name": "Python 3 (ipykernel)",
   "language": "python",
   "name": "python3"
  },
  "language_info": {
   "codemirror_mode": {
    "name": "ipython",
    "version": 3
   },
   "file_extension": ".py",
   "mimetype": "text/x-python",
   "name": "python",
   "nbconvert_exporter": "python",
   "pygments_lexer": "ipython3",
   "version": "3.9.7"
  }
 },
 "nbformat": 4,
 "nbformat_minor": 5
}
