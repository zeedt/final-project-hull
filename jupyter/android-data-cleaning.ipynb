{
 "cells": [
  {
   "cell_type": "code",
   "execution_count": 1,
   "id": "9a8222f1",
   "metadata": {},
   "outputs": [],
   "source": [
    "import pandas as pd\n",
    "import numpy as np\n",
    "import glob\n",
    "import os"
   ]
  },
  {
   "cell_type": "code",
   "execution_count": 2,
   "id": "982c79e4",
   "metadata": {},
   "outputs": [],
   "source": [
    "pd. set_option(\"display.max_columns\", None) "
   ]
  },
  {
   "cell_type": "code",
   "execution_count": null,
   "id": "bcd6785d",
   "metadata": {},
   "outputs": [],
   "source": []
  },
  {
   "cell_type": "code",
   "execution_count": 3,
   "id": "52fee723",
   "metadata": {},
   "outputs": [],
   "source": [
    "def clean_age_rating(age_rating):\n",
    "    if (age_rating.startswith('PEGI 3')):\n",
    "        return 'PEGI 3'\n",
    "    elif (age_rating.startswith('PEGI 16')):\n",
    "        return 'PEGI 16'\n",
    "    elif (age_rating.startswith('PEGI 12')):\n",
    "        return 'PEGI 12'\n",
    "    elif (age_rating.startswith('PEGI 18')):\n",
    "        return 'PEGI 18'"
   ]
  },
  {
   "cell_type": "code",
   "execution_count": 4,
   "id": "2f1f63fd",
   "metadata": {},
   "outputs": [],
   "source": [
    "def clean_android_data(path, category):\n",
    "    files = glob.glob(os.path.join(path , \"*.csv\"))\n",
    "    dfs = []\n",
    "    for filename in files:\n",
    "        df = pd.read_csv(filename)\n",
    "        dfs.append(df)\n",
    "\n",
    "    df = pd.concat(dfs, axis=0, ignore_index=True)\n",
    "    df['Age Rating'] = df['Age Rating'].apply(clean_age_rating)\n",
    "    df['Age Rating'] = df['Age Rating'].replace(np.nan, 'None')\n",
    "    df['Application Type'] = category\n",
    "    return df"
   ]
  },
  {
   "cell_type": "code",
   "execution_count": 5,
   "id": "e38ab4ce",
   "metadata": {},
   "outputs": [],
   "source": [
    "fitness_df = clean_android_data('./../android/fitness/', 'FITNESS')"
   ]
  },
  {
   "cell_type": "code",
   "execution_count": 6,
   "id": "11bc9e29",
   "metadata": {},
   "outputs": [],
   "source": [
    "medical_df = clean_android_data('./../android/medical/', 'MEDICAL')"
   ]
  },
  {
   "cell_type": "code",
   "execution_count": 7,
   "id": "0ad5cdef",
   "metadata": {},
   "outputs": [],
   "source": [
    "concatenated_df = pd.concat([medical_df, fitness_df], axis=0, ignore_index=True)"
   ]
  },
  {
   "cell_type": "code",
   "execution_count": 8,
   "id": "83ee03b5",
   "metadata": {},
   "outputs": [
    {
     "data": {
      "text/html": [
       "<div>\n",
       "<style scoped>\n",
       "    .dataframe tbody tr th:only-of-type {\n",
       "        vertical-align: middle;\n",
       "    }\n",
       "\n",
       "    .dataframe tbody tr th {\n",
       "        vertical-align: top;\n",
       "    }\n",
       "\n",
       "    .dataframe thead th {\n",
       "        text-align: right;\n",
       "    }\n",
       "</style>\n",
       "<table border=\"1\" class=\"dataframe\">\n",
       "  <thead>\n",
       "    <tr style=\"text-align: right;\">\n",
       "      <th></th>\n",
       "      <th>App Name</th>\n",
       "      <th>Age Rating</th>\n",
       "      <th>Price</th>\n",
       "      <th>InApp Purchase</th>\n",
       "      <th>Average Rating</th>\n",
       "      <th>Rating Count</th>\n",
       "      <th>App Link</th>\n",
       "      <th>Last Updated</th>\n",
       "      <th>Released Date</th>\n",
       "      <th>Downloads</th>\n",
       "      <th>Version</th>\n",
       "      <th>Country Code</th>\n",
       "      <th>Application Type</th>\n",
       "    </tr>\n",
       "  </thead>\n",
       "  <tbody>\n",
       "    <tr>\n",
       "      <th>0</th>\n",
       "      <td>TraceTogether</td>\n",
       "      <td>PEGI 3</td>\n",
       "      <td>0</td>\n",
       "      <td>False</td>\n",
       "      <td>2.9</td>\n",
       "      <td>57.1K</td>\n",
       "      <td>https://play.google.com/store/apps/details?id=...</td>\n",
       "      <td>May 31, 2022</td>\n",
       "      <td>Mar 9, 2020</td>\n",
       "      <td>1,000,000+</td>\n",
       "      <td>2.14.2</td>\n",
       "      <td>FO</td>\n",
       "      <td>MEDICAL</td>\n",
       "    </tr>\n",
       "    <tr>\n",
       "      <th>1</th>\n",
       "      <td>Blood Pressure Analyze</td>\n",
       "      <td>PEGI 3</td>\n",
       "      <td>0</td>\n",
       "      <td>True</td>\n",
       "      <td>3.9</td>\n",
       "      <td>12.3K</td>\n",
       "      <td>https://play.google.com/store/apps/details?id=...</td>\n",
       "      <td>Sep 9, 2021</td>\n",
       "      <td>Apr 1, 2019</td>\n",
       "      <td>1,000,000+</td>\n",
       "      <td>1.3.2</td>\n",
       "      <td>FO</td>\n",
       "      <td>MEDICAL</td>\n",
       "    </tr>\n",
       "    <tr>\n",
       "      <th>2</th>\n",
       "      <td>Monash University FODMAP diet</td>\n",
       "      <td>PEGI 3</td>\n",
       "      <td>£5.60</td>\n",
       "      <td>False</td>\n",
       "      <td>3.5</td>\n",
       "      <td>2.47K</td>\n",
       "      <td>https://play.google.com/store/apps/details?id=...</td>\n",
       "      <td>Jan 18, 2022</td>\n",
       "      <td>Nov 6, 2013</td>\n",
       "      <td>100,000+</td>\n",
       "      <td>3.0.9</td>\n",
       "      <td>FO</td>\n",
       "      <td>MEDICAL</td>\n",
       "    </tr>\n",
       "    <tr>\n",
       "      <th>3</th>\n",
       "      <td>Squeezy: NHS Pelvic Floor App</td>\n",
       "      <td>PEGI 3</td>\n",
       "      <td>£2.99</td>\n",
       "      <td>False</td>\n",
       "      <td>4.6</td>\n",
       "      <td>3.25K</td>\n",
       "      <td>https://play.google.com/store/apps/details?id=...</td>\n",
       "      <td>Mar 4, 2019</td>\n",
       "      <td>Sep 17, 2014</td>\n",
       "      <td>50,000+</td>\n",
       "      <td>Varies with device</td>\n",
       "      <td>FO</td>\n",
       "      <td>MEDICAL</td>\n",
       "    </tr>\n",
       "    <tr>\n",
       "      <th>4</th>\n",
       "      <td>Muscle Trigger Point Anatomy</td>\n",
       "      <td>PEGI 3</td>\n",
       "      <td>£2.69</td>\n",
       "      <td>False</td>\n",
       "      <td>4.5</td>\n",
       "      <td>1.59K</td>\n",
       "      <td>https://play.google.com/store/apps/details?id=...</td>\n",
       "      <td>Jul 30, 2019</td>\n",
       "      <td>Jan 27, 2011</td>\n",
       "      <td>50,000+</td>\n",
       "      <td>2.4.8</td>\n",
       "      <td>FO</td>\n",
       "      <td>MEDICAL</td>\n",
       "    </tr>\n",
       "  </tbody>\n",
       "</table>\n",
       "</div>"
      ],
      "text/plain": [
       "                        App Name Age Rating  Price  InApp Purchase  \\\n",
       "0                  TraceTogether     PEGI 3      0           False   \n",
       "1         Blood Pressure Analyze     PEGI 3      0            True   \n",
       "2  Monash University FODMAP diet     PEGI 3  £5.60           False   \n",
       "3  Squeezy: NHS Pelvic Floor App     PEGI 3  £2.99           False   \n",
       "4   Muscle Trigger Point Anatomy     PEGI 3  £2.69           False   \n",
       "\n",
       "   Average Rating Rating Count  \\\n",
       "0             2.9        57.1K   \n",
       "1             3.9        12.3K   \n",
       "2             3.5        2.47K   \n",
       "3             4.6        3.25K   \n",
       "4             4.5        1.59K   \n",
       "\n",
       "                                            App Link  Last Updated  \\\n",
       "0  https://play.google.com/store/apps/details?id=...  May 31, 2022   \n",
       "1  https://play.google.com/store/apps/details?id=...   Sep 9, 2021   \n",
       "2  https://play.google.com/store/apps/details?id=...  Jan 18, 2022   \n",
       "3  https://play.google.com/store/apps/details?id=...   Mar 4, 2019   \n",
       "4  https://play.google.com/store/apps/details?id=...  Jul 30, 2019   \n",
       "\n",
       "  Released Date    Downloads             Version Country Code Application Type  \n",
       "0   Mar 9, 2020  1,000,000+               2.14.2           FO          MEDICAL  \n",
       "1   Apr 1, 2019  1,000,000+                1.3.2           FO          MEDICAL  \n",
       "2   Nov 6, 2013    100,000+                3.0.9           FO          MEDICAL  \n",
       "3  Sep 17, 2014     50,000+   Varies with device           FO          MEDICAL  \n",
       "4  Jan 27, 2011     50,000+                2.4.8           FO          MEDICAL  "
      ]
     },
     "execution_count": 8,
     "metadata": {},
     "output_type": "execute_result"
    }
   ],
   "source": [
    "concatenated_df[:5]"
   ]
  },
  {
   "cell_type": "code",
   "execution_count": 9,
   "id": "34a320eb",
   "metadata": {},
   "outputs": [
    {
     "name": "stdout",
     "output_type": "stream",
     "text": [
      "<class 'pandas.core.frame.DataFrame'>\n",
      "RangeIndex: 12242 entries, 0 to 12241\n",
      "Data columns (total 13 columns):\n",
      " #   Column            Non-Null Count  Dtype  \n",
      "---  ------            --------------  -----  \n",
      " 0   App Name          12242 non-null  object \n",
      " 1   Age Rating        12242 non-null  object \n",
      " 2   Price             11911 non-null  object \n",
      " 3   InApp Purchase    12242 non-null  bool   \n",
      " 4   Average Rating    9089 non-null   float64\n",
      " 5   Rating Count      9089 non-null   object \n",
      " 6   App Link          12242 non-null  object \n",
      " 7   Last Updated      12242 non-null  object \n",
      " 8   Released Date     11845 non-null  object \n",
      " 9   Downloads         12242 non-null  object \n",
      " 10  Version           12241 non-null  object \n",
      " 11  Country Code      12242 non-null  object \n",
      " 12  Application Type  12242 non-null  object \n",
      "dtypes: bool(1), float64(1), object(11)\n",
      "memory usage: 1.1+ MB\n"
     ]
    }
   ],
   "source": [
    "concatenated_df.info()"
   ]
  },
  {
   "cell_type": "code",
   "execution_count": null,
   "id": "6e45d37c",
   "metadata": {},
   "outputs": [],
   "source": []
  },
  {
   "cell_type": "markdown",
   "id": "fa3917c3",
   "metadata": {},
   "source": [
    "#### Write to a single fine"
   ]
  },
  {
   "cell_type": "code",
   "execution_count": 10,
   "id": "4b85883e",
   "metadata": {},
   "outputs": [],
   "source": [
    "concatenated_df.to_csv('./android-fitness-and-medical-cleaned-data.csv')"
   ]
  },
  {
   "cell_type": "code",
   "execution_count": null,
   "id": "8a01b7b8",
   "metadata": {},
   "outputs": [],
   "source": []
  }
 ],
 "metadata": {
  "kernelspec": {
   "display_name": "Python 3 (ipykernel)",
   "language": "python",
   "name": "python3"
  },
  "language_info": {
   "codemirror_mode": {
    "name": "ipython",
    "version": 3
   },
   "file_extension": ".py",
   "mimetype": "text/x-python",
   "name": "python",
   "nbconvert_exporter": "python",
   "pygments_lexer": "ipython3",
   "version": "3.9.7"
  }
 },
 "nbformat": 4,
 "nbformat_minor": 5
}
