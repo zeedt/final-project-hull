{
 "cells": [
  {
   "cell_type": "code",
   "execution_count": 1,
   "id": "d97b3c14",
   "metadata": {},
   "outputs": [],
   "source": [
    "import pandas as pd\n",
    "import numpy as np\n",
    "import glob\n",
    "import os"
   ]
  },
  {
   "cell_type": "code",
   "execution_count": 2,
   "id": "0e46a6d9",
   "metadata": {},
   "outputs": [],
   "source": [
    "pd. set_option(\"display.max_columns\", None) "
   ]
  },
  {
   "cell_type": "code",
   "execution_count": null,
   "id": "bf04daae",
   "metadata": {},
   "outputs": [],
   "source": []
  },
  {
   "cell_type": "code",
   "execution_count": 3,
   "id": "66d52cea",
   "metadata": {},
   "outputs": [],
   "source": [
    "def cleanName(name):\n",
    "    newline_index = name.index('\\n')\n",
    "    return name[:newline_index]"
   ]
  },
  {
   "cell_type": "code",
   "execution_count": 4,
   "id": "f4ab9c72",
   "metadata": {},
   "outputs": [],
   "source": [
    "def clean_age_rating(age_rating):\n",
    "    plus_index = age_rating.index('+')\n",
    "    return age_rating[:plus_index+1]"
   ]
  },
  {
   "cell_type": "code",
   "execution_count": 5,
   "id": "e1148776",
   "metadata": {},
   "outputs": [],
   "source": [
    "def cleanup_rating_count(rating_count):\n",
    "    rating_count = str(rating_count)\n",
    "    if rating_count == 'nan':\n",
    "        return 0\n",
    "    rating_count = rating_count.replace('Ratings', '').replace('Rating','')\n",
    "    return rating_count"
   ]
  },
  {
   "cell_type": "code",
   "execution_count": 6,
   "id": "a4f790aa",
   "metadata": {},
   "outputs": [],
   "source": [
    "def map_in_app_purchase(in_app_purchase):\n",
    "    if np.isnan(in_app_purchase):\n",
    "        return False\n",
    "    else:\n",
    "        return True"
   ]
  },
  {
   "cell_type": "code",
   "execution_count": null,
   "id": "a156d8a2",
   "metadata": {},
   "outputs": [],
   "source": []
  },
  {
   "cell_type": "code",
   "execution_count": 7,
   "id": "7d916bb9",
   "metadata": {},
   "outputs": [],
   "source": [
    "def clean_ios_df(df, app_type):\n",
    "    print(\"Number of applications with missing size\", len(df[df['Size'].isna()]))\n",
    "    indexes_to_drop = df[df['Size'].isna()].index\n",
    "    df.drop(index=indexes_to_drop, axis=0, inplace=True)\n",
    "    df['App Name'] = df['App Name'].apply(cleanName)\n",
    "    df['Age Rating'] = df['Age Rating'].apply(clean_age_rating)\n",
    "    df['InApp Purchase'] = df['InApp Purchase'].apply(map_in_app_purchase)\n",
    "    df['Rating Count'] = df['Rating Count'].apply(cleanup_rating_count)\n",
    "    df['App Type'] = app_type\n",
    "    return df"
   ]
  },
  {
   "cell_type": "code",
   "execution_count": null,
   "id": "c4bba923",
   "metadata": {},
   "outputs": [],
   "source": []
  },
  {
   "cell_type": "code",
   "execution_count": 8,
   "id": "0bc2e6b3",
   "metadata": {},
   "outputs": [],
   "source": [
    "def load_csvs_in_folder_and_clean(path, app_type):\n",
    "    ios_files = glob.glob(os.path.join(path , \"*.csv\"))\n",
    "    dfs = []\n",
    "    for filename in ios_files:\n",
    "        df = pd.read_csv(filename)\n",
    "        dfs.append(df)\n",
    "\n",
    "    df = pd.concat(dfs, axis=0, ignore_index=True)\n",
    "    return clean_ios_df(df, app_type)"
   ]
  },
  {
   "cell_type": "code",
   "execution_count": null,
   "id": "c54bfee8",
   "metadata": {},
   "outputs": [],
   "source": []
  },
  {
   "cell_type": "code",
   "execution_count": 9,
   "id": "4c8e3fe7",
   "metadata": {},
   "outputs": [
    {
     "name": "stdout",
     "output_type": "stream",
     "text": [
      "Number of applications with missing size 8\n"
     ]
    }
   ],
   "source": [
    "fitness_df = load_csvs_in_folder_and_clean('./../ios/fitness', 'FITNESS AND HEALTH')"
   ]
  },
  {
   "cell_type": "code",
   "execution_count": 10,
   "id": "69f71762",
   "metadata": {},
   "outputs": [
    {
     "name": "stdout",
     "output_type": "stream",
     "text": [
      "Number of applications with missing size 0\n"
     ]
    }
   ],
   "source": [
    "medical_df = load_csvs_in_folder_and_clean('./../ios/medical', 'MEDICAL')"
   ]
  },
  {
   "cell_type": "code",
   "execution_count": null,
   "id": "9bd3591b",
   "metadata": {},
   "outputs": [],
   "source": []
  },
  {
   "cell_type": "code",
   "execution_count": 11,
   "id": "f29ed51d",
   "metadata": {},
   "outputs": [],
   "source": [
    "concatenated_df = pd.concat([medical_df, fitness_df], axis=0, ignore_index=True)"
   ]
  },
  {
   "cell_type": "code",
   "execution_count": 12,
   "id": "bc20f13b",
   "metadata": {},
   "outputs": [
    {
     "data": {
      "text/html": [
       "<div>\n",
       "<style scoped>\n",
       "    .dataframe tbody tr th:only-of-type {\n",
       "        vertical-align: middle;\n",
       "    }\n",
       "\n",
       "    .dataframe tbody tr th {\n",
       "        vertical-align: top;\n",
       "    }\n",
       "\n",
       "    .dataframe thead th {\n",
       "        text-align: right;\n",
       "    }\n",
       "</style>\n",
       "<table border=\"1\" class=\"dataframe\">\n",
       "  <thead>\n",
       "    <tr style=\"text-align: right;\">\n",
       "      <th></th>\n",
       "      <th>App Name</th>\n",
       "      <th>Size</th>\n",
       "      <th>Age Rating</th>\n",
       "      <th>Languages</th>\n",
       "      <th>Price</th>\n",
       "      <th>InApp Purchase</th>\n",
       "      <th>Average Rating</th>\n",
       "      <th>Rating Count</th>\n",
       "      <th>Privacy Data</th>\n",
       "      <th>App Link</th>\n",
       "      <th>Number of Versions</th>\n",
       "      <th>Last Version Date</th>\n",
       "      <th>First Version Date</th>\n",
       "      <th>App Type</th>\n",
       "    </tr>\n",
       "  </thead>\n",
       "  <tbody>\n",
       "    <tr>\n",
       "      <th>0</th>\n",
       "      <td>H and W Drug Store</td>\n",
       "      <td>21.5 MB</td>\n",
       "      <td>12+</td>\n",
       "      <td>English, Spanish</td>\n",
       "      <td>Free</td>\n",
       "      <td>False</td>\n",
       "      <td>4.0</td>\n",
       "      <td>4</td>\n",
       "      <td>NaN</td>\n",
       "      <td>https://apps.apple.com/us/app/h-and-w-drug-sto...</td>\n",
       "      <td>1</td>\n",
       "      <td>NaN</td>\n",
       "      <td>NaN</td>\n",
       "      <td>MEDICAL</td>\n",
       "    </tr>\n",
       "    <tr>\n",
       "      <th>1</th>\n",
       "      <td>H&amp;P-card™</td>\n",
       "      <td>10.1 MB</td>\n",
       "      <td>17+</td>\n",
       "      <td>English, Spanish</td>\n",
       "      <td>$2.99</td>\n",
       "      <td>False</td>\n",
       "      <td>1.0</td>\n",
       "      <td>1</td>\n",
       "      <td>NaN</td>\n",
       "      <td>https://apps.apple.com/us/app/h-p-card/id56971...</td>\n",
       "      <td>5</td>\n",
       "      <td>Sep 28, 2020</td>\n",
       "      <td>Oct 20, 2012</td>\n",
       "      <td>MEDICAL</td>\n",
       "    </tr>\n",
       "    <tr>\n",
       "      <th>2</th>\n",
       "      <td>H-Book – osobní zdravotní záznamy</td>\n",
       "      <td>47.1 MB</td>\n",
       "      <td>12+</td>\n",
       "      <td>English, Czech</td>\n",
       "      <td>Free</td>\n",
       "      <td>False</td>\n",
       "      <td>NaN</td>\n",
       "      <td>0</td>\n",
       "      <td>NaN</td>\n",
       "      <td>https://apps.apple.com/us/app/h-book-osobn%C3%...</td>\n",
       "      <td>21</td>\n",
       "      <td>Jun 28, 2017</td>\n",
       "      <td>Jun 5, 2013</td>\n",
       "      <td>MEDICAL</td>\n",
       "    </tr>\n",
       "    <tr>\n",
       "      <th>3</th>\n",
       "      <td>H-FACT</td>\n",
       "      <td>4.1 MB</td>\n",
       "      <td>12+</td>\n",
       "      <td>English</td>\n",
       "      <td>Free</td>\n",
       "      <td>False</td>\n",
       "      <td>NaN</td>\n",
       "      <td>0</td>\n",
       "      <td>NaN</td>\n",
       "      <td>https://apps.apple.com/us/app/h-fact/id1568969345</td>\n",
       "      <td>5</td>\n",
       "      <td>Nov 24, 2021</td>\n",
       "      <td>Jul 5, 2021</td>\n",
       "      <td>MEDICAL</td>\n",
       "    </tr>\n",
       "    <tr>\n",
       "      <th>4</th>\n",
       "      <td>H-Module</td>\n",
       "      <td>27.6 MB</td>\n",
       "      <td>17+</td>\n",
       "      <td>NaN</td>\n",
       "      <td>Free</td>\n",
       "      <td>False</td>\n",
       "      <td>NaN</td>\n",
       "      <td>0</td>\n",
       "      <td>NaN</td>\n",
       "      <td>https://apps.apple.com/us/app/h-module/id15728...</td>\n",
       "      <td>2</td>\n",
       "      <td>Jun 26, 2021</td>\n",
       "      <td>Jun 22, 2021</td>\n",
       "      <td>MEDICAL</td>\n",
       "    </tr>\n",
       "  </tbody>\n",
       "</table>\n",
       "</div>"
      ],
      "text/plain": [
       "                            App Name     Size Age Rating         Languages  \\\n",
       "0                 H and W Drug Store  21.5 MB        12+  English, Spanish   \n",
       "1                          H&P-card™  10.1 MB        17+  English, Spanish   \n",
       "2  H-Book – osobní zdravotní záznamy  47.1 MB        12+    English, Czech   \n",
       "3                             H-FACT   4.1 MB        12+           English   \n",
       "4                           H-Module  27.6 MB        17+               NaN   \n",
       "\n",
       "   Price  InApp Purchase  Average Rating Rating Count Privacy Data  \\\n",
       "0   Free           False             4.0           4           NaN   \n",
       "1  $2.99           False             1.0           1           NaN   \n",
       "2   Free           False             NaN            0          NaN   \n",
       "3   Free           False             NaN            0          NaN   \n",
       "4   Free           False             NaN            0          NaN   \n",
       "\n",
       "                                            App Link  Number of Versions  \\\n",
       "0  https://apps.apple.com/us/app/h-and-w-drug-sto...                   1   \n",
       "1  https://apps.apple.com/us/app/h-p-card/id56971...                   5   \n",
       "2  https://apps.apple.com/us/app/h-book-osobn%C3%...                  21   \n",
       "3  https://apps.apple.com/us/app/h-fact/id1568969345                   5   \n",
       "4  https://apps.apple.com/us/app/h-module/id15728...                   2   \n",
       "\n",
       "  Last Version Date First Version Date App Type  \n",
       "0               NaN                NaN  MEDICAL  \n",
       "1      Sep 28, 2020       Oct 20, 2012  MEDICAL  \n",
       "2      Jun 28, 2017        Jun 5, 2013  MEDICAL  \n",
       "3      Nov 24, 2021        Jul 5, 2021  MEDICAL  \n",
       "4      Jun 26, 2021       Jun 22, 2021  MEDICAL  "
      ]
     },
     "execution_count": 12,
     "metadata": {},
     "output_type": "execute_result"
    }
   ],
   "source": [
    "concatenated_df[:5]"
   ]
  },
  {
   "cell_type": "code",
   "execution_count": null,
   "id": "f3d7f849",
   "metadata": {},
   "outputs": [],
   "source": []
  },
  {
   "cell_type": "code",
   "execution_count": 13,
   "id": "cb25cbc0",
   "metadata": {},
   "outputs": [
    {
     "name": "stdout",
     "output_type": "stream",
     "text": [
      "<class 'pandas.core.frame.DataFrame'>\n",
      "RangeIndex: 107762 entries, 0 to 107761\n",
      "Data columns (total 14 columns):\n",
      " #   Column              Non-Null Count   Dtype  \n",
      "---  ------              --------------   -----  \n",
      " 0   App Name            107762 non-null  object \n",
      " 1   Size                107762 non-null  object \n",
      " 2   Age Rating          107762 non-null  object \n",
      " 3   Languages           104620 non-null  object \n",
      " 4   Price               107762 non-null  object \n",
      " 5   InApp Purchase      107762 non-null  bool   \n",
      " 6   Average Rating      51413 non-null   float64\n",
      " 7   Rating Count        107762 non-null  object \n",
      " 8   Privacy Data        43996 non-null   object \n",
      " 9   App Link            107762 non-null  object \n",
      " 10  Number of Versions  107762 non-null  int64  \n",
      " 11  Last Version Date   94855 non-null   object \n",
      " 12  First Version Date  94855 non-null   object \n",
      " 13  App Type            107762 non-null  object \n",
      "dtypes: bool(1), float64(1), int64(1), object(11)\n",
      "memory usage: 10.8+ MB\n"
     ]
    }
   ],
   "source": [
    "concatenated_df.info()"
   ]
  },
  {
   "cell_type": "markdown",
   "id": "1c371e1f",
   "metadata": {},
   "source": [
    "#### Write to a single file"
   ]
  },
  {
   "cell_type": "code",
   "execution_count": 14,
   "id": "aba666c1",
   "metadata": {},
   "outputs": [],
   "source": [
    "concatenated_df.to_csv('./ios-fitness-and-medical-cleaned-data.csv')"
   ]
  },
  {
   "cell_type": "code",
   "execution_count": null,
   "id": "cddad1b8",
   "metadata": {},
   "outputs": [],
   "source": []
  }
 ],
 "metadata": {
  "kernelspec": {
   "display_name": "Python 3 (ipykernel)",
   "language": "python",
   "name": "python3"
  },
  "language_info": {
   "codemirror_mode": {
    "name": "ipython",
    "version": 3
   },
   "file_extension": ".py",
   "mimetype": "text/x-python",
   "name": "python",
   "nbconvert_exporter": "python",
   "pygments_lexer": "ipython3",
   "version": "3.9.7"
  }
 },
 "nbformat": 4,
 "nbformat_minor": 5
}
